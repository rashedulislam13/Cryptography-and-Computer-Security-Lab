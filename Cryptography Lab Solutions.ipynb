{
 "cells": [
  {
   "cell_type": "markdown",
   "id": "86a59147",
   "metadata": {},
   "source": [
    "# Lab 1: Write a program to implement encryption and decryption using Caesar cipher"
   ]
  },
  {
   "cell_type": "markdown",
   "id": "c3b6d490",
   "metadata": {},
   "source": [
    "# Encryption"
   ]
  },
  {
   "cell_type": "code",
   "execution_count": 2,
   "id": "be10718a",
   "metadata": {},
   "outputs": [
    {
     "name": "stdout",
     "output_type": "stream",
     "text": [
      "Enter the text to encrypt: Information\n",
      "Enter the shift value: 1\n",
      "Encrypted Text: Jogpsnbujpo\n"
     ]
    }
   ],
   "source": [
    "def encrypt(text, shift):\n",
    "    encrypted_text = \"\"\n",
    "    for char in text:\n",
    "        if char.isalpha():\n",
    "            shift_base = 65 if char.isupper() else 97\n",
    "            encrypted_char = chr((ord(char) - shift_base + shift) % 26 + shift_base)\n",
    "            encrypted_text += encrypted_char\n",
    "        else:\n",
    "            encrypted_text += char\n",
    "    return encrypted_text\n",
    "\n",
    "def main():\n",
    "    text = input(\"Enter the text to encrypt: \")\n",
    "    shift = int(input(\"Enter the shift value: \"))\n",
    "    encrypted_text = encrypt(text, shift)\n",
    "    print(f\"Encrypted Text: {encrypted_text}\")\n",
    "\n",
    "if __name__ == \"__main__\":\n",
    "    main()\n"
   ]
  },
  {
   "cell_type": "markdown",
   "id": "57dfdda6",
   "metadata": {},
   "source": [
    "# Decryption"
   ]
  },
  {
   "cell_type": "code",
   "execution_count": 3,
   "id": "f302b771",
   "metadata": {},
   "outputs": [
    {
     "name": "stdout",
     "output_type": "stream",
     "text": [
      "Enter the text to decrypt: Jogpsnbujpo\n",
      "Enter the shift value: 1\n",
      "Decrypted Text: Information\n"
     ]
    }
   ],
   "source": [
    "def decrypt(text, shift):\n",
    "    decrypted_text = \"\"\n",
    "    for char in text:\n",
    "        if char.isalpha():\n",
    "            shift_base = 65 if char.isupper() else 97\n",
    "            decrypted_char = chr((ord(char) - shift_base - shift) % 26 + shift_base)\n",
    "            decrypted_text += decrypted_char\n",
    "        else:\n",
    "            decrypted_text += char\n",
    "    return decrypted_text\n",
    "\n",
    "def main():\n",
    "    text = input(\"Enter the text to decrypt: \")\n",
    "    shift = int(input(\"Enter the shift value: \"))\n",
    "    decrypted_text = decrypt(text, shift)\n",
    "    print(f\"Decrypted Text: {decrypted_text}\")\n",
    "\n",
    "if __name__ == \"__main__\":\n",
    "    main()\n"
   ]
  },
  {
   "cell_type": "markdown",
   "id": "03780104",
   "metadata": {},
   "source": [
    "# Lab 2: Write a program to implement encryption and decryption using Mono-Alphabetic cipher."
   ]
  },
  {
   "cell_type": "markdown",
   "id": "3f3b1e2e",
   "metadata": {},
   "source": [
    "# Encryption"
   ]
  },
  {
   "cell_type": "code",
   "execution_count": 8,
   "id": "d7fe584f",
   "metadata": {},
   "outputs": [
    {
     "name": "stdout",
     "output_type": "stream",
     "text": [
      "Generated Key: BGDVMRFYXZUAJNPSQTHOELKCWI\n",
      "Enter the text to encrypt: ABCD\n",
      "Encrypted Text: BGDV\n"
     ]
    }
   ],
   "source": [
    "import random\n",
    "import string\n",
    "\n",
    "def generate_key():\n",
    "    # Create a random permutation of the alphabet\n",
    "    letters = list(string.ascii_uppercase)\n",
    "    random.shuffle(letters)\n",
    "    return ''.join(letters)\n",
    "\n",
    "\n",
    "def encrypt(text, key):\n",
    "    # Create a mapping for encryption\n",
    "    mapping = {original: substituted for original, substituted in zip(string.ascii_uppercase, key)}\n",
    "    encrypted_text = \"\"\n",
    "    for char in text.upper():\n",
    "        if char in mapping:\n",
    "            encrypted_text += mapping[char]\n",
    "        else:\n",
    "            encrypted_text += char  # Non-alphabetic characters remain unchanged\n",
    "    return encrypted_text\n",
    "\n",
    "def main():\n",
    "    # Generate a random substitution key\n",
    "    key = generate_key()\n",
    "    print(f\"Generated Key: {key}\")\n",
    "\n",
    "    # Get the text to encrypt\n",
    "    text = input(\"Enter the text to encrypt: \")\n",
    "    # Encrypt the text\n",
    "    encrypted_text = encrypt(text, key)\n",
    "    print(f\"Encrypted Text: {encrypted_text}\")\n",
    "\n",
    "if __name__ == \"__main__\":\n",
    "    main()\n"
   ]
  },
  {
   "cell_type": "markdown",
   "id": "71b3a72f",
   "metadata": {},
   "source": [
    "# Decryption"
   ]
  },
  {
   "cell_type": "code",
   "execution_count": 2,
   "id": "b1f4bcdf",
   "metadata": {},
   "outputs": [
    {
     "name": "stdout",
     "output_type": "stream",
     "text": [
      "Enter the encryption key used for decryption: IMEBXUFNZAWOPLVCRTQKHGDSJY\n",
      "Enter the text to decrypt:  IMEBXUFNZAWOPLVCRTQKHGDSJY\n",
      "Decrypted Text:  ABCDEFGHIJKLMNOPQRSTUVWXYZ\n"
     ]
    }
   ],
   "source": [
    "import string\n",
    "\n",
    "def decrypt(text, key):\n",
    "    # Create a reverse mapping for decryption\n",
    "    reverse_mapping = {substituted: original for original, substituted in zip(string.ascii_uppercase, key)}\n",
    "    decrypted_text = \"\"\n",
    "    for char in text.upper():\n",
    "        if char in reverse_mapping:\n",
    "            decrypted_text += reverse_mapping[char]\n",
    "        else:\n",
    "            decrypted_text += char  # Non-alphabetic characters remain unchanged\n",
    "    return decrypted_text\n",
    "\n",
    "def main():\n",
    "    # Get the key for decryption from the user\n",
    "    key = input(\"Enter the encryption key used for decryption: \").upper()\n",
    "    # Get the text to decrypt\n",
    "    text = input(\"Enter the text to decrypt: \")\n",
    "    # Decrypt the text\n",
    "    decrypted_text = decrypt(text, key)\n",
    "    print(f\"Decrypted Text: {decrypted_text}\")\n",
    "\n",
    "if __name__ == \"__main__\":\n",
    "    main()\n"
   ]
  },
  {
   "cell_type": "markdown",
   "id": "2eae1630",
   "metadata": {},
   "source": [
    "# Lab 3: Write a program to implement encryption and decryption using Brute force attack cipher."
   ]
  },
  {
   "cell_type": "markdown",
   "id": "05be2d5f",
   "metadata": {},
   "source": [
    "# Encryption"
   ]
  },
  {
   "cell_type": "code",
   "execution_count": 11,
   "id": "e6f025bf",
   "metadata": {},
   "outputs": [
    {
     "name": "stdout",
     "output_type": "stream",
     "text": [
      "Enter the text to encrypt: Information\n",
      "Enter the shift value: 1\n",
      "Encrypted Text: Jogpsnbujpo\n"
     ]
    }
   ],
   "source": [
    "def encrypt(text, shift):\n",
    "    encrypted_text = \"\"\n",
    "    for char in text:\n",
    "        if char.isalpha():\n",
    "            shift_base = 65 if char.isupper() else 97\n",
    "            encrypted_char = chr((ord(char) - shift_base + shift) % 26 + shift_base)\n",
    "            encrypted_text += encrypted_char\n",
    "        else:\n",
    "            encrypted_text += char  # Non-alphabetic characters remain unchanged\n",
    "    return encrypted_text\n",
    "\n",
    "def main():\n",
    "    text = input(\"Enter the text to encrypt: \")\n",
    "    shift = int(input(\"Enter the shift value: \"))\n",
    "    encrypted_text = encrypt(text, shift)\n",
    "    print(f\"Encrypted Text: {encrypted_text}\")\n",
    "\n",
    "if __name__ == \"__main__\":\n",
    "    main()\n"
   ]
  },
  {
   "cell_type": "markdown",
   "id": "8b4d270b",
   "metadata": {},
   "source": [
    "# Decryption"
   ]
  },
  {
   "cell_type": "code",
   "execution_count": 10,
   "id": "27e4a3f9",
   "metadata": {},
   "outputs": [
    {
     "name": "stdout",
     "output_type": "stream",
     "text": [
      "Enter the encrypted text: Jogpsnbujpo\n",
      "Trying all possible shifts (0-25):\n",
      "Shift 0: Jogpsnbujpo\n",
      "Shift 1: Information\n",
      "Shift 2: Hmenqlzshnm\n",
      "Shift 3: Gldmpkyrgml\n",
      "Shift 4: Fkclojxqflk\n",
      "Shift 5: Ejbkniwpekj\n",
      "Shift 6: Diajmhvodji\n",
      "Shift 7: Chzilguncih\n",
      "Shift 8: Bgyhkftmbhg\n",
      "Shift 9: Afxgjeslagf\n",
      "Shift 10: Zewfidrkzfe\n",
      "Shift 11: Ydvehcqjyed\n",
      "Shift 12: Xcudgbpixdc\n",
      "Shift 13: Wbtcfaohwcb\n",
      "Shift 14: Vasbezngvba\n",
      "Shift 15: Uzradymfuaz\n",
      "Shift 16: Tyqzcxletzy\n",
      "Shift 17: Sxpybwkdsyx\n",
      "Shift 18: Rwoxavjcrxw\n",
      "Shift 19: Qvnwzuibqwv\n",
      "Shift 20: Pumvythapvu\n",
      "Shift 21: Otluxsgzout\n",
      "Shift 22: Nsktwrfynts\n",
      "Shift 23: Mrjsvqexmsr\n",
      "Shift 24: Lqirupdwlrq\n",
      "Shift 25: Kphqtocvkqp\n"
     ]
    }
   ],
   "source": [
    "def decrypt_with_shift(text, shift):\n",
    "    decrypted_text = \"\"\n",
    "    for char in text:\n",
    "        if char.isalpha():\n",
    "            shift_base = 65 if char.isupper() else 97\n",
    "            decrypted_char = chr((ord(char) - shift_base - shift) % 26 + shift_base)\n",
    "            decrypted_text += decrypted_char\n",
    "        else:\n",
    "            decrypted_text += char  # Non-alphabetic characters remain unchanged\n",
    "    return decrypted_text\n",
    "\n",
    "def brute_force_decrypt(text):\n",
    "    print(\"Trying all possible shifts (0-25):\")\n",
    "    for shift in range(26):\n",
    "        possible_plaintext = decrypt_with_shift(text, shift)\n",
    "        print(f\"Shift {shift}: {possible_plaintext}\")\n",
    "\n",
    "def main():\n",
    "    encrypted_text = input(\"Enter the encrypted text: \")\n",
    "    brute_force_decrypt(encrypted_text)\n",
    "\n",
    "if __name__ == \"__main__\":\n",
    "    main()\n"
   ]
  },
  {
   "cell_type": "markdown",
   "id": "cf81d09e",
   "metadata": {},
   "source": [
    "# Lab 4: Write a program to implement encryption and decryption using Hill cipher."
   ]
  },
  {
   "cell_type": "markdown",
   "id": "b1cf12c9",
   "metadata": {},
   "source": [
    "# Encryption"
   ]
  },
  {
   "cell_type": "code",
   "execution_count": 13,
   "id": "1e1a4c63",
   "metadata": {},
   "outputs": [
    {
     "name": "stdout",
     "output_type": "stream",
     "text": [
      "Enter the plaintext to encrypt: sh\n",
      "Enter the key matrix size (2 for 2x2 or 3 for 3x3): 2\n",
      "Enter the key matrix row by row:\n",
      "Row 1: 7 8\n",
      "Row 2: 11 11\n",
      "Encrypted text: ap\n"
     ]
    }
   ],
   "source": [
    "import numpy as np\n",
    "import string\n",
    "\n",
    "# Helper function to process text\n",
    "def process_text(text, size):\n",
    "    text = text.lower().replace(\" \", \"\")  # Remove spaces and convert to lowercase\n",
    "    while len(text) % size != 0:  # Pad with 'x' if necessary\n",
    "        text += 'x'\n",
    "    return text\n",
    "\n",
    "# Encryption function for Hill Cipher\n",
    "def hill_encrypt(plain_text, key_matrix):\n",
    "    n = key_matrix.shape[0]\n",
    "    plain_text = process_text(plain_text, n)\n",
    "    plain_vector = [ord(char) - ord('a') for char in plain_text]\n",
    "    \n",
    "    cipher_text = ''\n",
    "    for i in range(0, len(plain_vector), n):\n",
    "        chunk = np.array(plain_vector[i:i + n])\n",
    "        encrypted_chunk = np.dot(key_matrix, chunk) % 26\n",
    "        cipher_text += ''.join(chr(int(num) + ord('a')) for num in encrypted_chunk)\n",
    "    \n",
    "    return cipher_text\n",
    "\n",
    "# Take input from the user\n",
    "plain_text = input(\"Enter the plaintext to encrypt: \")\n",
    "key_size = int(input(\"Enter the key matrix size (2 for 2x2 or 3 for 3x3): \"))\n",
    "key_matrix = []\n",
    "\n",
    "print(\"Enter the key matrix row by row:\")\n",
    "for i in range(key_size):\n",
    "    row = list(map(int, input(f\"Row {i+1}: \").split()))\n",
    "    key_matrix.append(row)\n",
    "\n",
    "key_matrix = np.array(key_matrix)\n",
    "\n",
    "# Encrypt the plaintext\n",
    "cipher_text = hill_encrypt(plain_text, key_matrix)\n",
    "print(\"Encrypted text:\", cipher_text)\n"
   ]
  },
  {
   "cell_type": "markdown",
   "id": "352d0ee2",
   "metadata": {},
   "source": [
    "# Decryption"
   ]
  },
  {
   "cell_type": "code",
   "execution_count": 8,
   "id": "5cfc990a",
   "metadata": {},
   "outputs": [
    {
     "name": "stdout",
     "output_type": "stream",
     "text": [
      "Enter the ciphertext to decrypt: ap\n",
      "Enter the key matrix size (2 for 2x2 or 3 for 3x3): 2\n",
      "Enter the key matrix row by row:\n",
      "Row 1: 7 8\n",
      "Row 2: 11 11\n",
      "Decrypted text: sh\n"
     ]
    }
   ],
   "source": [
    "import numpy as np\n",
    "from sympy import Matrix\n",
    "import string\n",
    "\n",
    "# Decryption function for Hill Cipher\n",
    "def hill_decrypt(cipher_text, key_matrix):\n",
    "    n = key_matrix.shape[0]\n",
    "    cipher_vector = [ord(char) - ord('a') for char in cipher_text]\n",
    "    \n",
    "    try:\n",
    "        # Compute the modular inverse of key_matrix\n",
    "        key_inv = Matrix(key_matrix).inv_mod(26)\n",
    "        key_inv = np.array(key_inv).astype(int)\n",
    "    except ValueError:\n",
    "        return \"Decryption key matrix is not invertible modulo 26.\"\n",
    "    \n",
    "    decrypted_text = ''\n",
    "    for i in range(0, len(cipher_vector), n):\n",
    "        chunk = np.array(cipher_vector[i:i + n])\n",
    "        decrypted_chunk = np.dot(key_inv, chunk) % 26\n",
    "        decrypted_text += ''.join(chr(int(num) + ord('a')) for num in decrypted_chunk)\n",
    "    \n",
    "    return decrypted_text\n",
    "\n",
    "# Take input from the user\n",
    "cipher_text = input(\"Enter the ciphertext to decrypt: \")\n",
    "key_size = int(input(\"Enter the key matrix size (2 for 2x2 or 3 for 3x3): \"))\n",
    "key_matrix = []\n",
    "\n",
    "print(\"Enter the key matrix row by row:\")\n",
    "for i in range(key_size):\n",
    "    row = list(map(int, input(f\"Row {i+1}: \").split()))\n",
    "    key_matrix.append(row)\n",
    "\n",
    "key_matrix = np.array(key_matrix)\n",
    "\n",
    "# Decrypt the ciphertext\n",
    "decrypted_text = hill_decrypt(cipher_text, key_matrix)\n",
    "print(\"Decrypted text:\", decrypted_text)\n",
    "\n"
   ]
  },
  {
   "cell_type": "markdown",
   "id": "14e8aa98",
   "metadata": {},
   "source": [
    "# Write a program to implement encryption using Playfair cipher."
   ]
  },
  {
   "cell_type": "code",
   "execution_count": 10,
   "id": "603d7982",
   "metadata": {},
   "outputs": [
    {
     "name": "stdout",
     "output_type": "stream",
     "text": [
      "Enter the keyword for the key matrix: computer\n",
      "Enter the plaintext to encrypt: communicate \n",
      "Key Matrix:\n",
      "[['c' 'o' 'm' 'p' 'u']\n",
      " ['t' 'e' 'r' 'a' 'b']\n",
      " ['d' 'f' 'g' 'h' 'i']\n",
      " ['k' 'l' 'n' 'q' 's']\n",
      " ['v' 'w' 'x' 'y' 'z']]\n",
      "Encrypted Text: OMRMPCSGPTER\n"
     ]
    }
   ],
   "source": [
    "import numpy as np\n",
    "\n",
    "# Helper function to generate the 5x5 key matrix\n",
    "def generate_key_matrix(keyword):\n",
    "    keyword = keyword.replace(\"j\", \"i\").lower()  # Replace 'j' with 'i'\n",
    "    matrix = []\n",
    "    used_chars = set()\n",
    "\n",
    "    # Add unique letters from the keyword to the matrix\n",
    "    for char in keyword:\n",
    "        if char not in used_chars and char.isalpha():\n",
    "            used_chars.add(char)\n",
    "            matrix.append(char)\n",
    "\n",
    "    # Add remaining letters of the alphabet\n",
    "    for char in \"abcdefghiklmnopqrstuvwxyz\":  # 'j' is merged with 'i'\n",
    "        if char not in used_chars:\n",
    "            used_chars.add(char)\n",
    "            matrix.append(char)\n",
    "\n",
    "    # Convert the list into a 5x5 matrix\n",
    "    key_matrix = np.array(matrix).reshape(5, 5)\n",
    "    return key_matrix\n",
    "\n",
    "# Helper function to find the position of a letter in the key matrix\n",
    "def find_position(char, key_matrix):\n",
    "    row, col = np.where(key_matrix == char)\n",
    "    return row[0], col[0]\n",
    "\n",
    "# Function to preprocess text into pairs for encryption\n",
    "def process_text(plain_text):\n",
    "    plain_text = plain_text.lower().replace(\" \", \"\").replace(\"j\", \"i\")\n",
    "    processed_text = \"\"\n",
    "    i = 0\n",
    "\n",
    "    # Form pairs with padding if necessary\n",
    "    while i < len(plain_text):\n",
    "        processed_text += plain_text[i]\n",
    "        if i + 1 < len(plain_text) and plain_text[i] == plain_text[i + 1]:\n",
    "            processed_text += 'x'  # Insert 'x' between duplicate letters\n",
    "        elif i + 1 < len(plain_text):\n",
    "            processed_text += plain_text[i + 1]\n",
    "            i += 1\n",
    "        else:\n",
    "            processed_text += 'x'  # Padding if only one letter is left at the end\n",
    "        i += 1\n",
    "\n",
    "    return processed_text\n",
    "\n",
    "# Playfair encryption function\n",
    "def playfair_encrypt(plain_text, key_matrix):\n",
    "    processed_text = process_text(plain_text)\n",
    "    cipher_text = \"\"\n",
    "\n",
    "    for i in range(0, len(processed_text), 2):\n",
    "        char1, char2 = processed_text[i], processed_text[i + 1]\n",
    "        row1, col1 = find_position(char1, key_matrix)\n",
    "        row2, col2 = find_position(char2, key_matrix)\n",
    "\n",
    "        # Apply Playfair cipher rules\n",
    "        if row1 == row2:  # Same row\n",
    "            cipher_text += key_matrix[row1][(col1 + 1) % 5]\n",
    "            cipher_text += key_matrix[row2][(col2 + 1) % 5]\n",
    "        elif col1 == col2:  # Same column\n",
    "            cipher_text += key_matrix[(row1 + 1) % 5][col1]\n",
    "            cipher_text += key_matrix[(row2 + 1) % 5][col2]\n",
    "        else:  # Rectangle rule\n",
    "            cipher_text += key_matrix[row1][col2]\n",
    "            cipher_text += key_matrix[row2][col1]\n",
    "\n",
    "    return cipher_text.upper()\n",
    "\n",
    "# Main code to run Playfair encryption\n",
    "keyword = input(\"Enter the keyword for the key matrix: \")\n",
    "plain_text = input(\"Enter the plaintext to encrypt: \")\n",
    "\n",
    "# Generate key matrix and encrypt\n",
    "key_matrix = generate_key_matrix(keyword)\n",
    "cipher_text = playfair_encrypt(plain_text, key_matrix)\n",
    "\n",
    "print(\"Key Matrix:\")\n",
    "print(key_matrix)\n",
    "print(\"Encrypted Text:\", cipher_text)\n"
   ]
  },
  {
   "cell_type": "markdown",
   "id": "481d803e",
   "metadata": {},
   "source": [
    "# Write a program to implement decryption using Playfair cipher."
   ]
  },
  {
   "cell_type": "code",
   "execution_count": 11,
   "id": "b91521d8",
   "metadata": {},
   "outputs": [
    {
     "name": "stdout",
     "output_type": "stream",
     "text": [
      "Enter the keyword for the key matrix: computer\n",
      "Enter the ciphertext to decrypt: OMRMPCSGPTER\n",
      "Key Matrix:\n",
      "[['c' 'o' 'm' 'p' 'u']\n",
      " ['t' 'e' 'r' 'a' 'b']\n",
      " ['d' 'f' 'g' 'h' 'i']\n",
      " ['k' 'l' 'n' 'q' 's']\n",
      " ['v' 'w' 'x' 'y' 'z']]\n",
      "Decrypted Text: communicate\n"
     ]
    }
   ],
   "source": [
    "import numpy as np\n",
    "\n",
    "# Helper function to generate the 5x5 key matrix\n",
    "def generate_key_matrix(keyword):\n",
    "    keyword = keyword.replace(\"j\", \"i\").lower()  # Replace 'j' with 'i'\n",
    "    matrix = []\n",
    "    used_chars = set()\n",
    "\n",
    "    # Add unique letters from the keyword to the matrix\n",
    "    for char in keyword:\n",
    "        if char not in used_chars and char.isalpha():\n",
    "            used_chars.add(char)\n",
    "            matrix.append(char)\n",
    "\n",
    "    # Add remaining letters of the alphabet\n",
    "    for char in \"abcdefghiklmnopqrstuvwxyz\":  # 'j' is merged with 'i'\n",
    "        if char not in used_chars:\n",
    "            used_chars.add(char)\n",
    "            matrix.append(char)\n",
    "\n",
    "    # Convert the list into a 5x5 matrix\n",
    "    key_matrix = np.array(matrix).reshape(5, 5)\n",
    "    return key_matrix\n",
    "\n",
    "# Helper function to find the position of a letter in the key matrix\n",
    "def find_position(char, key_matrix):\n",
    "    row, col = np.where(key_matrix == char)\n",
    "    return row[0], col[0]\n",
    "\n",
    "# Playfair decryption function\n",
    "def playfair_decrypt(cipher_text, key_matrix):\n",
    "    cipher_text = cipher_text.lower().replace(\" \", \"\")\n",
    "    decrypted_text = \"\"\n",
    "\n",
    "    for i in range(0, len(cipher_text), 2):\n",
    "        char1, char2 = cipher_text[i], cipher_text[i + 1]\n",
    "        row1, col1 = find_position(char1, key_matrix)\n",
    "        row2, col2 = find_position(char2, key_matrix)\n",
    "\n",
    "        # Apply Playfair cipher decryption rules\n",
    "        if row1 == row2:  # Same row\n",
    "            decrypted_text += key_matrix[row1][(col1 - 1) % 5]\n",
    "            decrypted_text += key_matrix[row2][(col2 - 1) % 5]\n",
    "        elif col1 == col2:  # Same column\n",
    "            decrypted_text += key_matrix[(row1 - 1) % 5][col1]\n",
    "            decrypted_text += key_matrix[(row2 - 1) % 5][col2]\n",
    "        else:  # Rectangle rule\n",
    "            decrypted_text += key_matrix[row1][col2]\n",
    "            decrypted_text += key_matrix[row2][col1]\n",
    "\n",
    "    # Remove any padding 'x' that might have been added\n",
    "    decrypted_text = decrypted_text.replace(\"x\", \"\")\n",
    "    return decrypted_text\n",
    "\n",
    "# Main code to run Playfair decryption\n",
    "keyword = input(\"Enter the keyword for the key matrix: \")\n",
    "cipher_text = input(\"Enter the ciphertext to decrypt: \")\n",
    "\n",
    "# Generate key matrix and decrypt\n",
    "key_matrix = generate_key_matrix(keyword)\n",
    "decrypted_text = playfair_decrypt(cipher_text, key_matrix)\n",
    "\n",
    "print(\"Key Matrix:\")\n",
    "print(key_matrix)\n",
    "print(\"Decrypted Text:\", decrypted_text)\n"
   ]
  },
  {
   "cell_type": "markdown",
   "id": "3f707152",
   "metadata": {},
   "source": [
    "# Write a program to implement encryption using Poly-Alphabetic cipher."
   ]
  },
  {
   "cell_type": "markdown",
   "id": "f8efb63e",
   "metadata": {},
   "source": [
    "# Vigenere"
   ]
  },
  {
   "cell_type": "code",
   "execution_count": 13,
   "id": "baeefa63",
   "metadata": {},
   "outputs": [
    {
     "name": "stdout",
     "output_type": "stream",
     "text": [
      "Enter the plaintext to encrypt: geeksforgeeks\n",
      "Enter the keyword for encryption: ayush\n",
      "Encrypted Text: GCYCZFMLYLEIM\n"
     ]
    }
   ],
   "source": [
    "def generate_keystream(plain_text, keyword):\n",
    "    # Repeat the keyword to match the length of the plaintext\n",
    "    keystream = keyword * (len(plain_text) // len(keyword)) + keyword[:len(plain_text) % len(keyword)]\n",
    "    return keystream\n",
    "\n",
    "def poly_alphabetic_encrypt(plain_text, keyword):\n",
    "    plain_text = plain_text.lower().replace(\" \", \"\")  # Process plain text\n",
    "    keyword = keyword.lower()\n",
    "    keystream = generate_keystream(plain_text, keyword)\n",
    "    \n",
    "    cipher_text = \"\"\n",
    "    for pt_char, ks_char in zip(plain_text, keystream):\n",
    "        # Shift each character by the alphabetical index of the corresponding keystream character\n",
    "        pt_index = ord(pt_char) - ord('a')\n",
    "        ks_index = ord(ks_char) - ord('a')\n",
    "        encrypted_char = chr((pt_index + ks_index) % 26 + ord('a'))\n",
    "        cipher_text += encrypted_char\n",
    "\n",
    "    return cipher_text.upper()\n",
    "\n",
    "# Main code to run Poly-Alphabetic (Vigenère) Cipher encryption\n",
    "plain_text = input(\"Enter the plaintext to encrypt: \")\n",
    "keyword = input(\"Enter the keyword for encryption: \")\n",
    "\n",
    "# Encrypt the plaintext\n",
    "cipher_text = poly_alphabetic_encrypt(plain_text, keyword)\n",
    "\n",
    "print(\"Encrypted Text:\", cipher_text)\n"
   ]
  },
  {
   "cell_type": "markdown",
   "id": "fb4e66a1",
   "metadata": {},
   "source": [
    "# Write a program to implement decryption using Poly-Alphabetic cipher."
   ]
  },
  {
   "cell_type": "markdown",
   "id": "1eea49b4",
   "metadata": {},
   "source": [
    "# Vigenere"
   ]
  },
  {
   "cell_type": "code",
   "execution_count": 14,
   "id": "26bde14e",
   "metadata": {},
   "outputs": [
    {
     "name": "stdout",
     "output_type": "stream",
     "text": [
      "Enter the ciphertext to decrypt: gcyczfmlyleim\n",
      "Enter the keyword used for encryption: ayush\n",
      "Decrypted Text: geeksforgeeks\n"
     ]
    }
   ],
   "source": [
    "def generate_keystream(cipher_text, keyword):\n",
    "    # Repeat the keyword to match the length of the ciphertext\n",
    "    keystream = keyword * (len(cipher_text) // len(keyword)) + keyword[:len(cipher_text) % len(keyword)]\n",
    "    return keystream\n",
    "\n",
    "def poly_alphabetic_decrypt(cipher_text, keyword):\n",
    "    cipher_text = cipher_text.lower().replace(\" \", \"\")  # Process ciphertext\n",
    "    keyword = keyword.lower()\n",
    "    keystream = generate_keystream(cipher_text, keyword)\n",
    "    \n",
    "    decrypted_text = \"\"\n",
    "    for ct_char, ks_char in zip(cipher_text, keystream):\n",
    "        # Shift each character backward by the alphabetical index of the corresponding keystream character\n",
    "        ct_index = ord(ct_char) - ord('a')\n",
    "        ks_index = ord(ks_char) - ord('a')\n",
    "        decrypted_char = chr((ct_index - ks_index + 26) % 26 + ord('a'))\n",
    "        decrypted_text += decrypted_char\n",
    "\n",
    "    return decrypted_text\n",
    "\n",
    "# Main code to run Poly-Alphabetic (Vigenère) Cipher decryption\n",
    "cipher_text = input(\"Enter the ciphertext to decrypt: \")\n",
    "keyword = input(\"Enter the keyword used for encryption: \")\n",
    "\n",
    "# Decrypt the ciphertext\n",
    "decrypted_text = poly_alphabetic_decrypt(cipher_text, keyword)\n",
    "\n",
    "print(\"Decrypted Text:\", decrypted_text)\n"
   ]
  },
  {
   "cell_type": "markdown",
   "id": "ee9e4046",
   "metadata": {},
   "source": [
    "# Write a program to implement encryption using Vernam cipher. "
   ]
  },
  {
   "cell_type": "code",
   "execution_count": 25,
   "id": "cad89628",
   "metadata": {},
   "outputs": [
    {
     "name": "stdout",
     "output_type": "stream",
     "text": [
      "Enter the plaintext to encrypt: QAK\n",
      "Enter the key (must be the same length as the plaintext): SON\n",
      "Encrypted Text: COH\n"
     ]
    }
   ],
   "source": [
    "def vernam_encrypt(plain_text, key):\n",
    "    if len(plain_text) != len(key):\n",
    "        raise ValueError(\"The key must be the same length as the plaintext for the Vernam cipher.\")\n",
    "    \n",
    "    # Convert text to uppercase for simplicity and remove spaces\n",
    "    plain_text = plain_text.upper().replace(\" \", \"\")\n",
    "    key = key.upper().replace(\" \", \"\")\n",
    "    \n",
    "    cipher_text = \"\"\n",
    "    for pt_char, k_char in zip(plain_text, key):\n",
    "        # Perform XOR between characters and wrap result to alphabet range\n",
    "        pt_index = ord(pt_char) - ord('A')\n",
    "        k_index = ord(k_char) - ord('A')\n",
    "        encrypted_index = (pt_index ^ k_index) % 26\n",
    "        encrypted_char = chr(encrypted_index + ord('A'))\n",
    "        cipher_text += encrypted_char\n",
    "\n",
    "    return cipher_text\n",
    "\n",
    "# Main code to run Vernam cipher encryption\n",
    "plain_text = input(\"Enter the plaintext to encrypt: \")\n",
    "key = input(\"Enter the key (must be the same length as the plaintext): \")\n",
    "\n",
    "# Encrypt the plaintext\n",
    "cipher_text = vernam_encrypt(plain_text, key)\n",
    "\n",
    "print(\"Encrypted Text:\", cipher_text)\n"
   ]
  },
  {
   "cell_type": "markdown",
   "id": "3239d370",
   "metadata": {},
   "source": [
    "# Write a program to implement decryption using Vernam cipher. "
   ]
  },
  {
   "cell_type": "code",
   "execution_count": 26,
   "id": "5ca8ce88",
   "metadata": {},
   "outputs": [
    {
     "name": "stdout",
     "output_type": "stream",
     "text": [
      "Enter the ciphertext to decrypt: COH\n",
      "Enter the key (must be the same length as the ciphertext): SON\n",
      "Decrypted Text: QAK\n"
     ]
    }
   ],
   "source": [
    "def vernam_decrypt(cipher_text, key):\n",
    "    if len(cipher_text) != len(key):\n",
    "        raise ValueError(\"The key must be the same length as the ciphertext for the Vernam cipher.\")\n",
    "    \n",
    "    # Convert text to uppercase for simplicity and remove spaces\n",
    "    cipher_text = cipher_text.upper().replace(\" \", \"\")\n",
    "    key = key.upper().replace(\" \", \"\")\n",
    "    \n",
    "    decrypted_text = \"\"\n",
    "    for ct_char, k_char in zip(cipher_text, key):\n",
    "        # Perform XOR between characters and wrap result to alphabet range\n",
    "        ct_index = ord(ct_char) - ord('A')\n",
    "        k_index = ord(k_char) - ord('A')\n",
    "        decrypted_index = (ct_index ^ k_index) % 26  # XOR operation\n",
    "        decrypted_char = chr(decrypted_index + ord('A'))  # Map back to alphabet\n",
    "        decrypted_text += decrypted_char\n",
    "\n",
    "    return decrypted_text\n",
    "\n",
    "# Main code to run Vernam cipher decryption\n",
    "cipher_text = input(\"Enter the ciphertext to decrypt: \")\n",
    "key = input(\"Enter the key (must be the same length as the ciphertext): \")\n",
    "\n",
    "# Decrypt the ciphertext\n",
    "decrypted_text = vernam_decrypt(cipher_text, key)\n",
    "\n",
    "print(\"Decrypted Text:\", decrypted_text)\n"
   ]
  },
  {
   "cell_type": "code",
   "execution_count": null,
   "id": "9ef85c30",
   "metadata": {},
   "outputs": [],
   "source": []
  }
 ],
 "metadata": {
  "kernelspec": {
   "display_name": "Python 3 (ipykernel)",
   "language": "python",
   "name": "python3"
  },
  "language_info": {
   "codemirror_mode": {
    "name": "ipython",
    "version": 3
   },
   "file_extension": ".py",
   "mimetype": "text/x-python",
   "name": "python",
   "nbconvert_exporter": "python",
   "pygments_lexer": "ipython3",
   "version": "3.9.13"
  }
 },
 "nbformat": 4,
 "nbformat_minor": 5
}
